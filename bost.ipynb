{
 "cells": [
  {
   "cell_type": "code",
   "execution_count": 1,
   "metadata": {
    "colab": {
     "base_uri": "https://localhost:8080/"
    },
    "id": "8ieKR9hAzTeG",
    "outputId": "827501e9-a8c8-43fe-ebd8-0b7f6c0ac192"
   },
   "outputs": [
    {
     "name": "stdout",
     "output_type": "stream",
     "text": [
      "Predictions: [11.64334921  8.49363577 18.22392783 14.45359892 19.70789219 12.58271866\n",
      " 20.09041711 25.5003252  16.4922396   8.71280112 10.78715747 10.22330418\n",
      "  7.36322368 10.01025177 11.75957147  8.51745997  5.6916954  17.49110643\n",
      " 21.13430318 14.68539426  2.23389055  1.95309335  8.88021476  6.69715575\n",
      " 14.76430033  9.23979495 14.17866615  8.21285841  9.89668824  9.96673085\n",
      " 17.25122339 15.0161639  17.61592078 21.28420844  6.02013443 12.42392518\n",
      "  4.13707613  8.26673822 12.74576066  6.29014114 29.40171554 17.84192248\n",
      " 21.49285432 23.35922041  5.71402948  9.13071779 11.88305632 10.25256117\n",
      " 24.31491018 18.83116897  1.11241688  6.76732453 22.28762475  4.09924418\n",
      " 11.63198414 16.41203599 13.21800156 15.5083005  14.11790127 16.56569831\n",
      " 10.75459556 16.71000119  9.58267106 12.18857155 15.40881169 14.053708\n",
      "  9.67778135 15.57562138 19.10725916 19.2323915   8.28671224 11.06092687\n",
      "  6.17378066 10.13418627 13.82177693  8.60901228 10.07563728  6.42398672\n",
      "  5.66914232 23.33663072 24.06311324 14.96283963  8.78743412 26.30688901\n",
      " 10.19784036 11.35969781 10.15208642 19.71927061  8.49192452 11.4657698\n",
      "  9.95802417 11.35172315 15.19749836 22.10592855 16.03324272  7.5098699\n",
      " 14.98392676 12.75093174 18.71785259 18.32810253 16.97781562 10.09072047]\n",
      "Actual Values: [12.92 10.59 14.1  21.46 23.29  8.26 23.09 30.59 13.04 10.88  9.45 17.6\n",
      "  6.15 11.98  9.8   5.77  7.85 18.03 18.34 14.67  3.13  2.88  8.81  8.61\n",
      " 13.51  5.98 10.26  6.87 12.73  6.57 19.78 14.13 14.27 29.05  5.33 10.63\n",
      "  5.12  5.68 10.56  4.03 23.34 18.76 17.21 16.14  9.5   9.69  9.29  6.58\n",
      " 25.68 25.79  3.92  6.62 23.79  3.11 20.45 10.29 15.84 14.64 17.6  14.69\n",
      "  7.74 12.26 12.79  9.68 16.2  18.8   8.2  13.44 14.19 18.85  4.82 10.53\n",
      "  6.78  7.7  15.76  9.62  9.67 11.38  8.16 10.19 28.32 20.34  8.65 29.53\n",
      "  5.64 13.15 12.4  14.1   5.52 11.32 11.97 11.66 11.28 22.88  7.88  7.22\n",
      " 11.74 17.1  19.31 12.67 18.66  9.28]\n"
     ]
    }
   ],
   "source": [
    "from sklearn.neural_network import MLPRegressor\n",
    "from sklearn.preprocessing import StandardScaler\n",
    "from sklearn.model_selection import train_test_split\n",
    "import pandas as pd\n",
    "import numpy as np\n",
    "\n",
    "\n",
    "data_url = \"http://lib.stat.cmu.edu/datasets/boston\"\n",
    "raw_df = pd.read_csv(data_url, sep=\"\\s+\", skiprows=22, header=None)\n",
    "data = np.hstack([raw_df.values[::2, :], raw_df.values[1::2, :2]])\n",
    "\n",
    "\n",
    "X = data[:, :-1]\n",
    "y = data[:, -1]\n",
    "\n",
    "\n",
    "X_train, X_test, y_train, y_test = train_test_split(X, y, test_size=0.2, random_state=20)\n",
    "\n",
    "\n",
    "scaler = StandardScaler()\n",
    "X_train_scaled = scaler.fit_transform(X_train)\n",
    "X_test_scaled = scaler.transform(X_test)\n",
    "\n",
    "mlp = MLPRegressor(hidden_layer_sizes=(20,), max_iter=2000, learning_rate_init=0.01, random_state=20)\n",
    "\n",
    "\n",
    "mlp.fit(X_train_scaled, y_train)\n",
    "\n",
    "\n",
    "predictions = mlp.predict(X_test_scaled)\n",
    "\n",
    "\n",
    "print(\"Predictions:\", predictions)\n",
    "print(\"Actual Values:\", y_test)\n"
   ]
  }
 ],
 "metadata": {
  "colab": {
   "provenance": []
  },
  "kernelspec": {
   "display_name": "Python 3",
   "name": "python3"
  },
  "language_info": {
   "codemirror_mode": {
    "name": "ipython",
    "version": 3
   },
   "file_extension": ".py",
   "mimetype": "text/x-python",
   "name": "python",
   "nbconvert_exporter": "python",
   "pygments_lexer": "ipython3",
   "version": "3.11.3"
  }
 },
 "nbformat": 4,
 "nbformat_minor": 0
}
